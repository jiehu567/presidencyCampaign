{
 "cells": [
  {
   "cell_type": "code",
   "execution_count": 1,
   "metadata": {
    "collapsed": true
   },
   "outputs": [],
   "source": [
    "from os import listdir\n",
    "import numpy as np\n",
    "from pyemd import emd\n",
    "import re\n",
    "from gensim.models.word2vec import Word2Vec"
   ]
  },
  {
   "cell_type": "code",
   "execution_count": 2,
   "metadata": {
    "collapsed": true
   },
   "outputs": [],
   "source": [
    "#directory where data is stored\n",
    "DIR = \"speechExtract_v2/data/\"\n",
    "\n",
    "#read in file names as list of labels.\n",
    "docLabels = []\n",
    "docLabels = [f for f in listdir(DIR) if f.endswith('.txt')]"
   ]
  },
  {
   "cell_type": "code",
   "execution_count": 3,
   "metadata": {
    "collapsed": true
   },
   "outputs": [],
   "source": [
    "#create an array of the files we wish to train on.\n",
    "data = []\n",
    "for doc in docLabels:\n",
    "    with open(DIR + doc, 'r') as d:\n",
    "        text = d.read()\n",
    "        text = re.sub(\"[^a-z'.A-Z]\",\" \", text)\n",
    "        data.append(text)"
   ]
  },
  {
   "cell_type": "code",
   "execution_count": 4,
   "metadata": {
    "collapsed": true
   },
   "outputs": [],
   "source": [
    "#create list of list of words, each list of words is one sentence from speeches.\n",
    "sentences = []\n",
    "for i in range(len(data)):\n",
    "    sent = data[i].split('.')\n",
    "    for j in range(len(sent)):\n",
    "        sentences.append(sent[j].split())\n",
    "        "
   ]
  },
  {
   "cell_type": "code",
   "execution_count": 5,
   "metadata": {
    "collapsed": true
   },
   "outputs": [],
   "source": [
    "# Set values for various parameters\n",
    "num_features = 300    # Word vector dimensionality                      \n",
    "min_word_count = 40   # Minimum word count                        \n",
    "num_workers = 4       # Number of threads to run in parallel\n",
    "context = 10          # Context window size                                                                                    \n",
    "downsampling = 1e-3   # Downsample setting for frequent words"
   ]
  },
  {
   "cell_type": "code",
   "execution_count": 7,
   "metadata": {
    "collapsed": false
   },
   "outputs": [
    {
     "name": "stdout",
     "output_type": "stream",
     "text": [
      "Training model...\n"
     ]
    }
   ],
   "source": [
    "# Initialize and train the model (this will take some time)\n",
    "print \"Training model...\"\n",
    "model = Word2Vec(sentences, workers=num_workers, \\\n",
    "            size=num_features, min_count = min_word_count, \\\n",
    "            window = context, sample = downsampling)\n",
    "#If you don't plan to train the model any further, calling \n",
    "#init_sims will make the model much more memory-efficient.\n",
    "model.init_sims(replace=True)"
   ]
  },
  {
   "cell_type": "code",
   "execution_count": 8,
   "metadata": {
    "collapsed": true
   },
   "outputs": [],
   "source": [
    "# It can be helpful to create a meaningful model name and \n",
    "# save the model for later use. You can load it later using Word2Vec.load()\n",
    "model_name = \"300features_40minwords_10context\""
   ]
  },
  {
   "cell_type": "code",
   "execution_count": 9,
   "metadata": {
    "collapsed": true
   },
   "outputs": [],
   "source": [
    "#make and adjacency matrix for the vocabulary of our model using cosine similarity\n",
    "def make_adj(model):\n",
    "    words = model.vocab.keys()\n",
    "    n = len(words)\n",
    "    adj = np.empty((n,n))\n",
    "    for i in range(n):\n",
    "        adj[i][i] = 0.0\n",
    "        for j in range(n):\n",
    "            if i != j:\n",
    "                adj[i][j] = model.similarity(words[i], words[j])\n",
    "    return adj"
   ]
  },
  {
   "cell_type": "code",
   "execution_count": 10,
   "metadata": {
    "collapsed": true
   },
   "outputs": [],
   "source": [
    "adj = make_adj(model)"
   ]
  },
  {
   "cell_type": "code",
   "execution_count": 11,
   "metadata": {
    "collapsed": true
   },
   "outputs": [],
   "source": [
    "#recover sentences as single strings\n",
    "s1 = ''\n",
    "s2 = ''\n",
    "\n",
    "for word in sentences[0]:\n",
    "    s1 += word\n",
    "    s1 += ' ' \n",
    "    \n",
    "for word in sentences[1]:\n",
    "    s2 += word\n",
    "    s2 += ' '"
   ]
  },
  {
   "cell_type": "code",
   "execution_count": 12,
   "metadata": {
    "collapsed": false
   },
   "outputs": [
    {
     "name": "stdout",
     "output_type": "stream",
     "text": [
      "('Features:', u'american, female, gardens, getting, legendary, lot, neighborhood, page, presidency, projectpromote, ready, spring, starting, things, tomatoes, unidentified')\n",
      "(array([1, 1, 0, 1, 0, 2, 0, 1, 1, 1, 1, 0, 0, 2, 0, 1]), array([0, 1, 1, 0, 1, 0, 1, 0, 0, 0, 1, 1, 1, 0, 1, 1]))\n"
     ]
    }
   ],
   "source": [
    "from sklearn.feature_extraction.text import CountVectorizer\n",
    "vect = CountVectorizer(stop_words=\"english\").fit([s1, s2])\n",
    "print(\"Features:\",  \", \".join(vect.get_feature_names()))\n",
    "\n",
    "v_1, v_2 = vect.transform([s1, s2])\n",
    "v_1 = v_1.toarray().ravel()\n",
    "v_2 = v_2.toarray().ravel()\n",
    "print(v_1,v_2)"
   ]
  },
  {
   "cell_type": "code",
   "execution_count": 13,
   "metadata": {
    "collapsed": true
   },
   "outputs": [],
   "source": [
    "v_1 = v_1.astype(np.double)\n",
    "v_2 = v_2.astype(np.double)\n",
    "v_1 /= v_1.sum()\n",
    "v_2 /= v_2.sum()\n",
    "adj_n = adj / adj.max()"
   ]
  },
  {
   "cell_type": "code",
   "execution_count": 15,
   "metadata": {
    "collapsed": false
   },
   "outputs": [
    {
     "data": {
      "text/plain": [
       "0.6477048471347725"
      ]
     },
     "execution_count": 15,
     "metadata": {},
     "output_type": "execute_result"
    }
   ],
   "source": [
    "emd(v_1, v_2, adj_n)"
   ]
  },
  {
   "cell_type": "code",
   "execution_count": null,
   "metadata": {
    "collapsed": true
   },
   "outputs": [],
   "source": []
  }
 ],
 "metadata": {
  "kernelspec": {
   "display_name": "Python 2",
   "language": "python",
   "name": "python2"
  },
  "language_info": {
   "codemirror_mode": {
    "name": "ipython",
    "version": 2
   },
   "file_extension": ".py",
   "mimetype": "text/x-python",
   "name": "python",
   "nbconvert_exporter": "python",
   "pygments_lexer": "ipython2",
   "version": "2.7.11"
  }
 },
 "nbformat": 4,
 "nbformat_minor": 0
}
